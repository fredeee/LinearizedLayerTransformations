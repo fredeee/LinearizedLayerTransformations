{
 "cells": [
  {
   "cell_type": "code",
   "execution_count": 2,
   "id": "8fc16a1f",
   "metadata": {},
   "outputs": [],
   "source": [
    "from lja.analyser.analyser import Analyser\n",
    "import numpy as np\n",
    "import matplotlib.pyplot as plt\n",
    "from matplotlib.transforms import Bbox\n",
    "from sklearn.manifold import TSNE\n",
    "import pandas as pd\n",
    "import seaborn as sns\n",
    "import matplotlib.ticker as mtick"
   ]
  },
  {
   "cell_type": "code",
   "execution_count": 3,
   "id": "a4f0f750",
   "metadata": {},
   "outputs": [
    {
     "name": "stdout",
     "output_type": "stream",
     "text": [
      "/Users/fredericbecker/Documents/Master/layerwise_jacobian_analysis/report/notebooks\r\n"
     ]
    }
   ],
   "source": [
    "!pwd"
   ]
  },
  {
   "cell_type": "code",
   "execution_count": 4,
   "id": "ec8c9dea",
   "metadata": {},
   "outputs": [
    {
     "name": "stdout",
     "output_type": "stream",
     "text": [
      "/Users/fredericbecker/Documents/Master/layerwise_jacobian_analysis\n"
     ]
    }
   ],
   "source": [
    "%cd '/Users/fredericbecker/Documents/Master/layerwise_jacobian_analysis/'"
   ]
  },
  {
   "cell_type": "markdown",
   "id": "ef769dce",
   "metadata": {},
   "source": [
    "### Load Analyser Object"
   ]
  },
  {
   "cell_type": "code",
   "execution_count": 5,
   "id": "da9a4766",
   "metadata": {},
   "outputs": [
    {
     "name": "stdout",
     "output_type": "stream",
     "text": [
      "Loading data ...\n"
     ]
    }
   ],
   "source": [
    "analyser = Analyser(\"mnist/dropout/\", show_plots=False)\n",
    "analyser.load(side=\"left\", load_features=True)"
   ]
  },
  {
   "cell_type": "code",
   "execution_count": 6,
   "id": "c4ed8cb4",
   "metadata": {},
   "outputs": [],
   "source": [
    "# set settings\n",
    "analyser.plotter.plot_path = \"report/plots\"\n",
    "analyser.set_k_per_layer([20, 10, 10, 10])"
   ]
  },
  {
   "cell_type": "markdown",
   "id": "dddb1d8c",
   "metadata": {},
   "source": [
    "### U Embedding plot"
   ]
  },
  {
   "cell_type": "code",
   "execution_count": null,
   "id": "5c30a099",
   "metadata": {},
   "outputs": [],
   "source": [
    "datas = []\n",
    "labels = ['incorrect' if el  else 'correct' for el in analyser.data.misclassification_mask]\n",
    "\n",
    "for layer in [0,1,2,3]:\n",
    "    # aggregate data\n",
    "    U = analyser.data.u_list[layer]\n",
    "    U_flatten = U.reshape(U.shape[0], U.shape[1] * U.shape[2])\n",
    "    \n",
    "    # perform t-SNE\n",
    "    res = TSNE(\n",
    "        2, init=\"pca\", learning_rate=\"auto\", n_iter=2000, n_jobs=1\n",
    "    ).fit_transform(U_flatten)\n",
    "    \n",
    "    def standardise(x):\n",
    "        return (x - np.min(x)) / (np.max(x) - np.min(x))\n",
    "        \n",
    "    # remember data\n",
    "    data = pd.DataFrame(\n",
    "        {\n",
    "            \"x\": standardise(res[:, 0]),\n",
    "            \"y\": standardise(res[:, 1]),\n",
    "            \"Class\": analyser.data.labels,\n",
    "            \"Classification\": labels\n",
    "        }\n",
    "    )\n",
    "    datas.append(data)"
   ]
  },
  {
   "cell_type": "code",
   "execution_count": 1,
   "id": "c11c3bf8",
   "metadata": {},
   "outputs": [
    {
     "ename": "NameError",
     "evalue": "name 'sns' is not defined",
     "output_type": "error",
     "traceback": [
      "\u001b[0;31m---------------------------------------------------------------------------\u001b[0m",
      "\u001b[0;31mNameError\u001b[0m                                 Traceback (most recent call last)",
      "Input \u001b[0;32mIn [1]\u001b[0m, in \u001b[0;36m<cell line: 2>\u001b[0;34m()\u001b[0m\n\u001b[1;32m      1\u001b[0m \u001b[38;5;66;03m# plot\u001b[39;00m\n\u001b[0;32m----> 2\u001b[0m \u001b[43msns\u001b[49m\u001b[38;5;241m.\u001b[39mset(rc\u001b[38;5;241m=\u001b[39m{\u001b[38;5;124m\"\u001b[39m\u001b[38;5;124mfigure.figsize\u001b[39m\u001b[38;5;124m\"\u001b[39m:(\u001b[38;5;241m15\u001b[39m, \u001b[38;5;241m15\u001b[39m)})\n\u001b[1;32m      3\u001b[0m fig, ax \u001b[38;5;241m=\u001b[39m plt\u001b[38;5;241m.\u001b[39msubplots(\u001b[38;5;241m2\u001b[39m,\u001b[38;5;241m2\u001b[39m)\n\u001b[1;32m      4\u001b[0m axs \u001b[38;5;241m=\u001b[39m ax\u001b[38;5;241m.\u001b[39mflatten()\n",
      "\u001b[0;31mNameError\u001b[0m: name 'sns' is not defined"
     ]
    }
   ],
   "source": [
    "# plot\n",
    "sns.set(rc={\"figure.figsize\":(15, 15)})\n",
    "fig, ax = plt.subplots(2,2)\n",
    "axs = ax.flatten()\n",
    "\n",
    "for layer, data in enumerate(datas):\n",
    "    \n",
    "    sns.scatterplot(\n",
    "        x=\"x\",\n",
    "        y=\"y\",\n",
    "        hue=\"Class\",\n",
    "        style=\"Classification\",\n",
    "        palette=sns.color_palette(n_colors=len(set(data[\"Class\"]))),\n",
    "        data=datas[layer],\n",
    "        ax=axs[layer],\n",
    "        s=120,\n",
    "    );\n",
    "\n",
    "    # design\n",
    "    axs[layer].set(xlabel=None, ylabel=None)\n",
    "    axs[layer].set(xticklabels=[], yticklabels=[])\n",
    "    axs[layer].set_title('Layer '+ str(layer+1), size = 26)\n",
    "    axs[layer].get_legend().remove()\n",
    "\n",
    "    #plt.title('Layer ' + str(layer), fontdict = {'fontsize' : 22})\n",
    "    \n",
    "#plt.legend(loc='lower right', title='Class', fontsize='20', title_fontsize='22')\n",
    "\n",
    "handles, labels = axs[layer].get_legend_handles_labels()\n",
    "fig.legend(handles, labels, loc='upper right', ncol=1, bbox_to_anchor=(1.19, 0.65),\n",
    "           fontsize=24, title_fontsize='26')\n",
    "\n",
    "\n",
    "#plt.suptitle('t-SNE embedding of the output projections', size=28, y=1)\n",
    "plt.tight_layout()\n",
    "plt.savefig('report/plots/tsne_plot.png', bbox_inches=Bbox([[0, 0], [17.9, 15]])) #15.1\n",
    "\n",
    "pass;"
   ]
  },
  {
   "cell_type": "code",
   "execution_count": null,
   "id": "f0f06b4b",
   "metadata": {},
   "outputs": [],
   "source": []
  },
  {
   "cell_type": "code",
   "execution_count": null,
   "id": "eb9f98fb",
   "metadata": {},
   "outputs": [],
   "source": []
  },
  {
   "cell_type": "markdown",
   "id": "443b4c5e",
   "metadata": {},
   "source": [
    "### Exemplary Decision Traces"
   ]
  },
  {
   "cell_type": "code",
   "execution_count": 20,
   "id": "cdab55c8",
   "metadata": {},
   "outputs": [
    {
     "name": "stdout",
     "output_type": "stream",
     "text": [
      "\n",
      "Sample: 935\n",
      "Read in:   [0. 1. 1. 1.]\n",
      "Write out: [1. 9. 9. 1.]\n",
      "\n",
      "Sample: 622\n",
      "Read in:   [0. 0. 0. 0.]\n",
      "Write out: [0. 0. 0. 0.]\n",
      "\n",
      "Sample: 700\n",
      "Read in:   [0. 7. 7. 7.]\n",
      "Write out: [7. 7. 7. 7.]\n"
     ]
    }
   ],
   "source": [
    "analyser.compute_computation_path_per_layer(printing=True, samples=[935, 622, 700]);"
   ]
  },
  {
   "cell_type": "code",
   "execution_count": 22,
   "id": "edd9451b",
   "metadata": {},
   "outputs": [
    {
     "name": "stdout",
     "output_type": "stream",
     "text": [
      "\n",
      "Sample: 935\n",
      "\n",
      "Layer: 0\n",
      "Write out:  [1. 8. 1. 1. 1. 1. 1. 1. 1. 1.]\n",
      "\n",
      "Layer: 1\n",
      "Read in:    [7. 1. 1. 1. 1. 1. 1. 7. 1. 1.]\n",
      "Write out:  [1. 9. 7. 9. 9. 1. 7. 7. 9. 8.]\n",
      "\n",
      "Layer: 2\n",
      "Read in:    [1. 1. 1. 1. 1. 1. 1. 7. 1. 9.]\n",
      "Write out:  [9. 9. 9. 9. 9. 1. 9. 9. 9. 9.]\n",
      "\n",
      "Layer: 3\n",
      "Read in:    [7. 1. 1. 7. 1. 1. 0. 7. 1. 7.]\n",
      "Write out:  [1. 1. 1. 1. 1. 1. 1. 1. 1. 1.]\n",
      "\n",
      "Sample: 622\n",
      "\n",
      "Layer: 0\n",
      "Write out:  [0. 0. 0. 0. 0. 0. 0. 0. 0. 6.]\n",
      "\n",
      "Layer: 1\n",
      "Read in:    [6. 0. 0. 0. 6. 0. 0. 0. 0. 3.]\n",
      "Write out:  [0. 0. 0. 0. 0. 0. 0. 0. 0. 0.]\n",
      "\n",
      "Layer: 2\n",
      "Read in:    [0. 0. 0. 0. 0. 0. 0. 0. 0. 0.]\n",
      "Write out:  [0. 0. 0. 0. 0. 0. 0. 0. 0. 0.]\n",
      "\n",
      "Layer: 3\n",
      "Read in:    [0. 0. 0. 0. 6. 0. 0. 0. 0. 0.]\n",
      "Write out:  [0. 0. 0. 0. 0. 0. 0. 0. 0. 0.]\n",
      "\n",
      "Sample: 700\n",
      "\n",
      "Layer: 0\n",
      "Write out:  [7. 7. 7. 7. 7. 7. 7. 7. 7. 7.]\n",
      "\n",
      "Layer: 1\n",
      "Read in:    [7. 7. 7. 7. 7. 7. 7. 7. 7. 7.]\n",
      "Write out:  [7. 7. 7. 7. 7. 7. 7. 7. 7. 7.]\n",
      "\n",
      "Layer: 2\n",
      "Read in:    [7. 7. 7. 7. 7. 7. 7. 7. 7. 7.]\n",
      "Write out:  [7. 7. 7. 7. 7. 7. 7. 7. 7. 7.]\n",
      "\n",
      "Layer: 3\n",
      "Read in:    [7. 7. 7. 7. 7. 7. 7. 7. 7. 7.]\n",
      "Write out:  [7. 7. 7. 7. 7. 7. 7. 7. 7. 7.]\n"
     ]
    }
   ],
   "source": [
    "analyser.compute_computation_path_per_k(printing=True, samples=[935, 622, 700]);"
   ]
  },
  {
   "cell_type": "markdown",
   "id": "9d95b986",
   "metadata": {},
   "source": [
    "### Correct decision per layer"
   ]
  },
  {
   "cell_type": "code",
   "execution_count": 7,
   "id": "31a41b6d",
   "metadata": {},
   "outputs": [],
   "source": [
    "u_path, _ = analyser.compute_computation_path_per_layer()\n",
    "mask = analyser.data.misclassification_mask"
   ]
  },
  {
   "cell_type": "code",
   "execution_count": 9,
   "id": "c6b3cfd6",
   "metadata": {},
   "outputs": [
    {
     "data": {
      "text/plain": [
       "(array([0.91281513, 0.96848739, 0.98109244, 1.        ]),\n",
       " array([0.25      , 0.41666667, 0.33333333, 0.        ]))"
      ]
     },
     "execution_count": 9,
     "metadata": {},
     "output_type": "execute_result"
    }
   ],
   "source": [
    "correct = np.array([u_path[:, l] == analyser.data.labels for l in range(4)])\n",
    "cl_mis = np.sum(correct[:, mask], axis= 1)\n",
    "cl_cor = np.sum(correct[:, mask == 0], axis= 1)\n",
    "\n",
    "cl_percentage = (cl_cor/np.sum(mask == 0), \n",
    "                cl_mis/np.sum(mask))\n",
    "\n",
    "cl_percentage"
   ]
  },
  {
   "cell_type": "code",
   "execution_count": null,
   "id": "781fb51d",
   "metadata": {},
   "outputs": [],
   "source": []
  },
  {
   "cell_type": "markdown",
   "id": "6bd35d67",
   "metadata": {},
   "source": [
    "### Final Decision Layer"
   ]
  },
  {
   "cell_type": "code",
   "execution_count": 10,
   "id": "00dd309d",
   "metadata": {},
   "outputs": [],
   "source": [
    "final_decision_layer = analyser.get_layer_of_final_decision() + 1\n",
    "mask = analyser.data.misclassification_mask"
   ]
  },
  {
   "cell_type": "code",
   "execution_count": 11,
   "id": "9c50eba2",
   "metadata": {},
   "outputs": [
    {
     "data": {
      "text/plain": [
       "(array([0.89915966, 0.06512605, 0.01680672, 0.01890756]),\n",
       " array([0.29166667, 0.125     , 0.125     , 0.45833333]))"
      ]
     },
     "execution_count": 11,
     "metadata": {},
     "output_type": "execute_result"
    }
   ],
   "source": [
    "d_mis = final_decision_layer[mask]\n",
    "d_cor = final_decision_layer[mask == 0]\n",
    "\n",
    "d_percentage = (np.histogram(d_cor, bins = 4)[0]/len(d_cor), \n",
    "                np.histogram(d_mis, bins = 4)[0]/len(d_mis))\n",
    "\n",
    "d_percentage"
   ]
  },
  {
   "cell_type": "markdown",
   "id": "86e48430",
   "metadata": {},
   "source": [
    "### Variation in Decision Trace"
   ]
  },
  {
   "cell_type": "code",
   "execution_count": 12,
   "id": "2d901fd9",
   "metadata": {},
   "outputs": [],
   "source": [
    "variation = analyser.compute_variation_in_computation()\n",
    "mask = analyser.data.misclassification_mask"
   ]
  },
  {
   "cell_type": "code",
   "execution_count": 44,
   "id": "3b5e46c7",
   "metadata": {},
   "outputs": [],
   "source": [
    "d_mis = variation[mask]\n",
    "d_cor = variation[mask == 0]\n",
    "\n",
    "d_mis = np.mean(d_mis, axis = 0)\n",
    "d_cor = np.mean(d_cor, axis = 0)"
   ]
  },
  {
   "cell_type": "code",
   "execution_count": 46,
   "id": "c3920412",
   "metadata": {},
   "outputs": [
    {
     "data": {
      "text/plain": [
       "3.6408632239956877"
      ]
     },
     "execution_count": 46,
     "metadata": {},
     "output_type": "execute_result"
    }
   ],
   "source": [
    "d_mis[:-1].std()"
   ]
  },
  {
   "cell_type": "code",
   "execution_count": 37,
   "id": "97bcfdc8",
   "metadata": {},
   "outputs": [
    {
     "data": {
      "image/png": "[encoded data removed]",
      "text/plain": [
       "<Figure size 1080x864 with 3 Axes>"
      ]
     },
     "metadata": {},
     "output_type": "display_data"
    }
   ],
   "source": [
    "# general design\n",
    "plt.style.use('ggplot')#\n",
    "figure, axis = plt.subplots(2, 2, figsize=(15, 12))\n",
    "\n",
    "# barplot design\n",
    "bw = 0.3\n",
    "br1 = np.arange(len(d_percentage[0])) - bw/2 +1\n",
    "br2 = [x + bw for x in br1]\n",
    "\n",
    "\n",
    "\n",
    "# plot of correct decision per layer\n",
    "ax = axis[0][0]\n",
    "ax.bar(br2, cl_percentage[1], width = bw, color= sns.color_palette(\"muted\")[1])\n",
    "ax.bar(br1, cl_percentage[0], width = bw, color= sns.color_palette(\"muted\")[0])\n",
    "\n",
    "# design'\n",
    "#ax.legend(['Incorrect', 'Correct'], prop={'size': 16})\n",
    "ax.set_xticks([1,2,3,4])\n",
    "ax.tick_params(labelsize = 20)\n",
    "ax.set_ylabel('Proportion', size= 20)\n",
    "ax.set_xlabel('Layer', size= 20)\n",
    "ax.set_title('Correct decision', size= 25)\n",
    "ax.yaxis.set_major_formatter(mtick.PercentFormatter(1.0))\n",
    "\n",
    "# Labeling\n",
    "ax.annotate(\"A\", xy=(-0.05, 1), xycoords=\"axes fraction\", size = 28)\n",
    "\n",
    "\n",
    "\n",
    "# plot of final decision layer\n",
    "ax = axis[0][1]\n",
    "ax.bar(br2, d_percentage[1], width = bw, color= sns.color_palette(\"muted\")[1])\n",
    "ax.bar(br1, d_percentage[0], width = bw, color= sns.color_palette(\"muted\")[0])\n",
    "\n",
    "# design'\n",
    "ax.legend(['Incorrect', 'Correct'], prop={'size': 16})\n",
    "ax.set_xticks([1,2,3,4])\n",
    "ax.set_ylim([0, 1.05])\n",
    "ax.set_yticks([0,0.2, 0.4, 0.6, 0.8, 1.0])\n",
    "ax.tick_params(labelsize = 20)\n",
    "ax.set_ylabel('Proportion', size= 20)\n",
    "ax.set_xlabel('Layer', size= 20)\n",
    "ax.set_title('Final decision', size= 25)\n",
    "ax.yaxis.set_major_formatter(mtick.PercentFormatter(1.0))\n",
    "\n",
    "# Labeling\n",
    "ax.annotate(\"B\", xy=(-0.05, 1), xycoords=\"axes fraction\", size = 28)\n",
    "\n",
    "\n",
    "# plot of uncertainty\n",
    "ax = axis[1][0]\n",
    "ax.bar(br2, d_mis, width = bw, color= sns.color_palette(\"muted\")[1])\n",
    "ax.bar(br1, d_cor, width = bw, color= sns.color_palette(\"muted\")[0])\n",
    "\n",
    "# design'\n",
    "ax.legend(['Incorrect', 'Correct'], prop={'size': 16})\n",
    "ax.set_xticks([1,2,3,4], size=20)\n",
    "ax.tick_params(labelsize = 20)\n",
    "ax.set_ylabel('Mean variation', size= 20)\n",
    "ax.set_xlabel('Layer', size= 20)\n",
    "ax.set_title('Uncertainty', size= 25)\n",
    "\n",
    "# Labeling\n",
    "ax.annotate(\"C\", xy=(-0.05, 1), xycoords=\"axes fraction\", size = 28)\n",
    "\n",
    "figure.delaxes(axis[1][1])\n",
    "plt.tight_layout()\n",
    "figure.savefig('report/plots/trace_plot.png', bbox_inches=Bbox([[0, 0], [15, 12]]));"
   ]
  },
  {
   "cell_type": "markdown",
   "id": "5359f3ac",
   "metadata": {},
   "source": [
    "### Feature Validation"
   ]
  },
  {
   "cell_type": "code",
   "execution_count": 6,
   "id": "fce4bd33",
   "metadata": {},
   "outputs": [
    {
     "name": "stdout",
     "output_type": "stream",
     "text": [
      "\n",
      "Layer: 0\n",
      "Error: 8.04\n",
      "Correlation: 0.918\n",
      "Dot product: 1774679296\n",
      "Mean Similarity: -7.59\n",
      "\n",
      "Layer: 1\n",
      "Error: 7.59\n",
      "Correlation: 0.966\n",
      "Dot product: 3019788800\n",
      "Mean Similarity: 122.68\n",
      "\n",
      "Layer: 2\n",
      "Error: 38.56\n",
      "Correlation: 0.971\n",
      "Dot product: 5510881792\n",
      "Mean Similarity: 152.67\n",
      "\n",
      "Layer: 3\n",
      "Error: 0.06\n",
      "Correlation: 0.978\n",
      "Dot product: 378\n",
      "Mean Similarity: -19.53\n"
     ]
    },
    {
     "data": {
      "image/png": "[encoded data removed]",
      "text/plain": [
       "<Figure size 432x288 with 1 Axes>"
      ]
     },
     "metadata": {
      "needs_background": "light"
     },
     "output_type": "display_data"
    }
   ],
   "source": [
    "targets, preds = analyser.test_features()"
   ]
  },
  {
   "cell_type": "code",
   "execution_count": 14,
   "id": "751c4052",
   "metadata": {},
   "outputs": [
    {
     "data": {
      "image/png": "[encoded data removed]",
      "text/plain": [
       "<Figure size 720x576 with 1 Axes>"
      ]
     },
     "metadata": {},
     "output_type": "display_data"
    }
   ],
   "source": [
    "plt.style.use('ggplot')\n",
    "plt.figure(figsize=(10,8))\n",
    "l = 2\n",
    "\n",
    "plt.plot(targets[l], preds[l], 'o', color=(51/235, 138/235, 188/235), alpha=0.5, markersize=0.6)\n",
    "plt.plot(range(int(np.max(targets[l]))), range(int(np.max(targets[l]))), color=(226/235, 74/235, 51/235))\n",
    "\n",
    "\n",
    "# design\n",
    "plt.title('Activation in Layer '+ str(l+1), size= 30)\n",
    "plt.ylabel('Estimated activation', size= 28)\n",
    "plt.xlabel('Actual activation', size= 28)\n",
    "plt.yticks(fontsize=25)\n",
    "plt.xticks(fontsize=25)\n",
    "\n",
    "plt.tight_layout();\n",
    "plt.savefig('report/plots/activation_layer'+ str(l+1) + '.png');"
   ]
  },
  {
   "cell_type": "code",
   "execution_count": null,
   "id": "59fb078d",
   "metadata": {},
   "outputs": [],
   "source": []
  },
  {
   "cell_type": "markdown",
   "id": "6f926540",
   "metadata": {},
   "source": [
    "### SVD Validation"
   ]
  },
  {
   "cell_type": "code",
   "execution_count": 8,
   "id": "fb505ab0",
   "metadata": {},
   "outputs": [
    {
     "name": "stdout",
     "output_type": "stream",
     "text": [
      "\n",
      "Layer: 0\n",
      "Stacked side:\t left \n",
      "K:\t\t 20 \n",
      "Size of u:\t (1000, 1024, 20) \n",
      "Size of s\t (20,) \n",
      "Size of vh\t (20, 785)\n",
      "\n",
      "Layer: 0\n",
      "Error: 8.04\n",
      "Correlation: 0.918\n",
      "Dot product: 1774643328\n",
      "\n",
      "Layer: 1\n",
      "Stacked side:\t left \n",
      "K:\t\t 10 \n",
      "Size of u:\t (1000, 1024, 10) \n",
      "Size of s\t (10,) \n",
      "Size of vh\t (10, 1025)\n",
      "\n",
      "Layer: 1\n",
      "Error: 3.95\n",
      "Correlation: 0.991\n",
      "Dot product: 3326288384\n",
      "\n",
      "Layer: 2\n",
      "Stacked side:\t left \n",
      "K:\t\t 10 \n",
      "Size of u:\t (1000, 512, 10) \n",
      "Size of s\t (10,) \n",
      "Size of vh\t (10, 1025)\n",
      "\n",
      "Layer: 2\n",
      "Error: 2.18\n",
      "Correlation: 0.999\n",
      "Dot product: 9726184448\n",
      "\n",
      "Layer: 3\n",
      "Stacked side:\t left \n",
      "K:\t\t 10 \n",
      "Size of u:\t (1000, 10, 10) \n",
      "Size of s\t (10,) \n",
      "Size of vh\t (10, 513)\n",
      "\n",
      "Layer: 3\n",
      "Error: 0.00\n",
      "Correlation: 1.000\n",
      "Dot product: 1000\n"
     ]
    },
    {
     "data": {
      "image/png": "[encoded data removed]",
      "text/plain": [
       "<Figure size 432x288 with 1 Axes>"
      ]
     },
     "metadata": {
      "needs_background": "light"
     },
     "output_type": "display_data"
    }
   ],
   "source": [
    "analyser.test_all_decompositions([20, 10, 10, 10])"
   ]
  },
  {
   "cell_type": "code",
   "execution_count": 16,
   "id": "71e196a1",
   "metadata": {},
   "outputs": [
    {
     "name": "stdout",
     "output_type": "stream",
     "text": [
      "Stacked side:\t left \n",
      "K:\t\t 10 \n",
      "Size of u:\t (1000, 10, 10) \n",
      "Size of s\t (10,) \n",
      "Size of vh\t (10, 513)\n",
      "\n",
      "Layer: 3\n",
      "Error: 0.00\n",
      "Correlation: 1.000\n",
      "Dot product: 1000\n"
     ]
    },
    {
     "data": {
      "text/plain": [
       "(2.8616393e-08, 1.0, 0.9999999999999445, 999.9999)"
      ]
     },
     "execution_count": 16,
     "metadata": {},
     "output_type": "execute_result"
    },
    {
     "data": {
      "image/png": "[encoded data removed]",
      "text/plain": [
       "<Figure size 432x288 with 1 Axes>"
      ]
     },
     "metadata": {},
     "output_type": "display_data"
    }
   ],
   "source": [
    "analyser.test_decomposition(3, 10)"
   ]
  },
  {
   "cell_type": "code",
   "execution_count": null,
   "id": "0444110c",
   "metadata": {},
   "outputs": [],
   "source": [
    "# find decision layer that is late\n"
   ]
  },
  {
   "cell_type": "code",
   "execution_count": null,
   "id": "e502802d",
   "metadata": {},
   "outputs": [],
   "source": []
  },
  {
   "cell_type": "code",
   "execution_count": 76,
   "id": "53aaacac",
   "metadata": {},
   "outputs": [],
   "source": [
    "(u_centers, feature_centers) = analyser.get_class_centers_per_feature_dimension(3)"
   ]
  },
  {
   "cell_type": "code",
   "execution_count": 81,
   "id": "156c1a33",
   "metadata": {},
   "outputs": [
    {
     "data": {
      "text/plain": [
       "(784,)"
      ]
     },
     "execution_count": 81,
     "metadata": {},
     "output_type": "execute_result"
    }
   ],
   "source": [
    "feature_centers[9][0].shape # feature 8 of layer 3 for class 0"
   ]
  },
  {
   "cell_type": "code",
   "execution_count": 89,
   "id": "9113154b",
   "metadata": {},
   "outputs": [
    {
     "data": {
      "text/plain": [
       "array([ 7.21238554e-03,  3.14094387e-02, -1.91410370e-02,  7.21801445e-03,\n",
       "       -7.41804671e-03, -5.56951463e-02,  3.06458883e-02, -2.89424025e-02,\n",
       "        2.51030475e-02,  3.76297757e-02, -5.34640998e-03, -3.01572457e-02,\n",
       "        5.75800166e-02,  4.97986749e-02, -1.45933732e-01,  4.06215452e-02,\n",
       "       -3.34280194e-03,  3.18056159e-02, -2.60437429e-02,  6.75884783e-02,\n",
       "       -3.43127809e-02, -4.00490984e-02,  1.34102274e-02, -6.25427812e-02,\n",
       "        8.19216389e-03, -2.64185630e-02, -4.82063517e-02, -4.92082424e-02,\n",
       "        2.89670750e-02,  2.60674097e-02, -2.45712679e-02, -6.51013106e-02,\n",
       "        3.25799249e-02, -3.08682527e-02,  5.94663946e-03, -3.73469340e-03,\n",
       "        3.73126194e-02,  1.25330826e-02, -6.81436285e-02,  5.26498072e-02,\n",
       "        5.84661309e-03, -3.39124091e-02,  1.77576579e-02,  7.29278699e-02,\n",
       "        3.78417298e-02,  5.95167540e-02, -5.34063689e-02,  2.40582284e-02,\n",
       "        3.35724428e-02, -1.03488564e-01, -2.76788813e-03,  1.03708036e-01,\n",
       "       -1.51441200e-02,  1.03970118e-01, -4.23064642e-02, -1.09870378e-02,\n",
       "        2.04742383e-02, -3.28690447e-02, -3.34511325e-02,  2.35454366e-02,\n",
       "        5.78873651e-03, -4.38954448e-03, -3.65417339e-02,  2.80655883e-02,\n",
       "       -8.49352311e-03,  3.42233367e-02,  1.41444476e-03,  2.03002505e-02,\n",
       "       -4.00028490e-02,  2.22178586e-02, -8.19364041e-02,  2.10313816e-02,\n",
       "       -7.56925046e-02,  2.33084299e-02,  2.30036937e-02, -9.17626545e-03,\n",
       "       -2.89643165e-02,  4.83415090e-02,  2.49734409e-02, -4.94398177e-02,\n",
       "       -4.98296209e-02, -1.80250388e-02, -4.65280600e-02, -2.81706173e-02,\n",
       "        3.35212201e-02,  3.29383579e-03,  3.30641344e-02,  7.07340287e-03,\n",
       "        5.53596951e-02, -5.33730201e-02, -9.97899771e-02, -2.65775882e-02,\n",
       "        4.05959561e-02,  6.61130399e-02, -1.83521602e-02, -3.00560016e-02,\n",
       "        7.01370835e-02,  6.89009503e-02,  2.04287353e-03, -3.81799601e-02,\n",
       "        5.69638098e-03,  1.81217063e-02,  2.21603774e-02, -1.15060015e-02,\n",
       "        8.26334208e-02, -1.26273245e-01,  5.01997359e-02, -5.31243198e-02,\n",
       "       -4.32319902e-02,  3.34114805e-02,  4.26880233e-02, -3.32502201e-02,\n",
       "        1.03426008e-02,  1.05854869e-02,  5.22834286e-02,  3.43403555e-02,\n",
       "        9.63553134e-03, -2.58027501e-02,  4.73251045e-02, -6.98287785e-02,\n",
       "       -7.12673068e-02,  4.38181199e-02, -7.83899873e-02, -1.77710094e-02,\n",
       "        4.42952523e-03, -6.87985495e-02,  8.82917419e-02, -3.16607058e-02,\n",
       "        2.84953155e-02,  1.05237160e-02, -3.64174582e-02, -3.81516963e-02,\n",
       "       -8.21088627e-03, -8.16494320e-03,  2.40215077e-03,  2.48726550e-02,\n",
       "        2.77451873e-02, -5.13119809e-02, -5.54161146e-02, -1.66128874e-02,\n",
       "        3.77967097e-02,  2.32292134e-02, -5.02854679e-03, -2.56847101e-03,\n",
       "        1.82813238e-02, -2.16036215e-02,  8.84756166e-03, -6.28873855e-02,\n",
       "        2.28061080e-02,  1.30157582e-02, -6.10849634e-02,  3.00577516e-03,\n",
       "       -5.78012094e-02,  6.16878271e-03,  1.63191762e-02, -3.48238871e-02,\n",
       "        3.19243153e-03,  5.34640998e-02,  5.87943569e-03, -8.33735391e-02,\n",
       "        1.18394736e-02,  2.40620575e-03, -3.44706289e-02, -7.07948208e-03,\n",
       "        1.15823075e-02, -4.07805815e-02, -9.57042426e-02, -1.67945493e-02,\n",
       "        1.24596795e-02, -1.73475202e-02, -5.43072179e-04,  1.61270089e-02,\n",
       "       -3.74600925e-02,  3.80202867e-02, -1.56512056e-02,  4.41377237e-02,\n",
       "       -4.29921038e-03,  4.18880954e-02,  3.65624353e-02,  1.05002588e-02,\n",
       "       -5.70895597e-02,  3.47921401e-02,  2.97324955e-02,  3.48573811e-02,\n",
       "        5.27963378e-02,  1.03888445e-01, -1.67642310e-02,  4.56357300e-02,\n",
       "        3.30852717e-03,  1.75323468e-02,  9.04377401e-02,  7.55160581e-03,\n",
       "       -2.23100130e-02,  1.45982150e-02, -1.67464893e-02, -4.35698815e-02,\n",
       "        2.32581459e-02,  6.02098405e-02, -2.95812935e-02,  2.27717822e-03,\n",
       "        1.76370703e-02,  2.04527639e-02, -7.58429617e-02,  3.33870240e-02,\n",
       "        8.39476287e-03, -3.11502051e-02,  1.02027304e-01, -3.67991440e-02,\n",
       "       -1.69334910e-03,  2.27613691e-02,  3.36027183e-02,  1.68673601e-02,\n",
       "        7.22993836e-02, -2.70978753e-02,  4.33116332e-02, -1.51724927e-02,\n",
       "        1.91627946e-02,  6.02121837e-02,  6.69028684e-02,  1.72055829e-02,\n",
       "       -3.58959362e-02, -1.29809439e-01,  5.89006441e-03,  3.79788056e-02,\n",
       "       -2.20461545e-04,  6.87099993e-02,  7.43589029e-02,  3.02285440e-02,\n",
       "        1.03728846e-02,  4.87328283e-02, -3.45035046e-02,  3.68729816e-03,\n",
       "       -3.67475264e-02,  4.52506505e-02,  3.41933668e-02,  1.03175789e-01,\n",
       "        1.52858533e-02,  4.53606900e-03,  4.95521277e-02, -3.75764035e-02,\n",
       "        3.32576931e-02,  7.11907772e-03, -3.06294058e-02,  1.34975985e-01,\n",
       "       -5.22122681e-02,  5.15039526e-02, -1.91973448e-02,  3.42064723e-02,\n",
       "       -8.57167989e-02,  4.12063412e-02,  5.55793419e-02, -3.93902697e-02,\n",
       "       -6.66234829e-03, -4.23424318e-02, -9.59508941e-02,  3.95346107e-03,\n",
       "       -6.48097694e-02, -2.34464072e-02, -1.27083026e-02, -2.26418134e-02,\n",
       "       -2.38180179e-02, -1.96844880e-02, -1.89465620e-02,  1.50830066e-02,\n",
       "        2.62637790e-02, -7.14242756e-02, -5.49224056e-02,  3.56744379e-02,\n",
       "       -3.33764851e-02, -5.20550124e-02, -4.09059897e-02, -4.88819256e-02,\n",
       "        8.51417929e-02, -9.36484430e-03, -3.42776440e-02, -7.06507340e-02,\n",
       "       -2.96822935e-02,  2.38795280e-02,  3.29650082e-02, -6.33386821e-02,\n",
       "        2.85123363e-02, -4.41852733e-02,  3.49669196e-02,  2.75779441e-02,\n",
       "       -9.04411748e-02,  4.13428582e-02, -6.16193041e-02, -2.34177969e-02,\n",
       "        2.48506642e-03, -4.64816764e-03, -3.09719164e-02, -2.97762430e-03,\n",
       "       -7.61308074e-02, -2.07170788e-02, -2.63034906e-02, -3.79460715e-02,\n",
       "        2.61025429e-02, -3.20030786e-02, -1.01412069e-02,  4.88326810e-02,\n",
       "        3.64926904e-02, -7.51931453e-03, -1.60523541e-02, -1.07821659e-04,\n",
       "       -2.91531831e-02, -5.88412210e-03, -3.67545038e-02, -5.78232892e-02,\n",
       "       -4.26021926e-02, -7.89381005e-03, -1.74744911e-02,  7.90347233e-02,\n",
       "        2.75355969e-02, -2.78817769e-02,  4.76823375e-02, -8.89099669e-03,\n",
       "        6.69401884e-02, -6.48977887e-03, -7.95338862e-03,  3.47024202e-03,\n",
       "        2.00512875e-02, -8.88386592e-02,  3.08605395e-02, -1.30629903e-02,\n",
       "       -1.40512390e-02, -3.07536125e-02,  3.46018821e-02,  5.23785576e-02,\n",
       "        3.32230702e-02, -2.04821397e-02, -2.41317805e-02, -1.44252539e-01,\n",
       "        3.68886665e-02,  3.93326860e-03, -6.77712485e-02,  2.28973594e-03,\n",
       "       -1.03156101e-02, -1.66776851e-02, -9.26004201e-02,  2.28275154e-02,\n",
       "        3.56050692e-02, -6.83806390e-02, -2.95805205e-02, -8.87051318e-03,\n",
       "       -8.28659385e-02, -4.44064708e-03, -6.79474398e-02, -1.98481288e-02,\n",
       "        5.39332703e-02,  5.01807444e-02,  1.00367926e-01, -9.23224911e-02,\n",
       "        4.47951071e-02,  1.52266007e-02,  2.75239125e-02,  2.24970113e-02,\n",
       "       -7.19030201e-02, -2.29821913e-02,  3.13293710e-02, -3.63807529e-02,\n",
       "       -7.93505535e-02, -1.00232966e-01,  3.01748831e-02,  8.60837847e-02,\n",
       "       -3.85510474e-02, -1.47389509e-02,  2.73395069e-02, -2.99012545e-03,\n",
       "       -5.51088924e-05, -8.67618155e-03, -2.54657157e-02,  2.01590620e-02,\n",
       "       -2.27102861e-02, -3.72140594e-02, -1.24162938e-02,  7.22859427e-02,\n",
       "        3.76245007e-02,  8.06532055e-03,  7.51509443e-02, -4.53623720e-02,\n",
       "        1.21176112e-02,  3.36108217e-03,  4.64760214e-02, -2.86892559e-02,\n",
       "       -2.34870072e-02,  3.78140695e-02,  1.00550912e-02,  7.32256919e-02,\n",
       "        2.23212577e-02, -8.87295231e-02,  2.92825550e-02, -4.64688949e-02,\n",
       "       -3.40676345e-02,  6.36702105e-02,  2.68445089e-02, -6.49886429e-02,\n",
       "       -3.57921682e-02,  4.71747182e-02, -7.59931952e-02, -6.28755391e-02,\n",
       "       -4.37163934e-02,  1.52731463e-02, -3.85707878e-02, -4.58382145e-02,\n",
       "        1.06158666e-03,  1.90773699e-02, -4.85323854e-02, -3.80744971e-02,\n",
       "        4.69888784e-02, -2.65930500e-02, -4.89540515e-04,  5.92593737e-02,\n",
       "        6.76266178e-02, -2.01258343e-02,  5.35151316e-03,  5.97218126e-02,\n",
       "       -1.47271166e-02, -4.07090858e-02, -8.62876233e-03,  8.51946548e-02,\n",
       "        3.29688266e-02, -5.57913743e-02,  6.28126264e-02, -4.26094560e-03,\n",
       "        1.20935384e-02,  4.47613075e-02, -5.69607280e-02, -2.60348022e-02,\n",
       "        1.94717348e-02,  5.37755676e-02, -7.83875771e-03,  5.39684808e-03,\n",
       "        3.72792892e-02,  2.35761199e-02,  5.93507709e-03, -4.20480631e-02,\n",
       "        1.31326038e-02, -8.06629509e-02,  4.08109464e-02, -3.07461116e-02,\n",
       "       -9.11947992e-03, -2.26064846e-02, -3.16528715e-02,  3.15312366e-03,\n",
       "        6.89720036e-03, -5.34096509e-02, -6.34476319e-02, -8.72546360e-02,\n",
       "       -2.94053671e-03, -2.81071328e-02,  6.46158829e-02, -6.41348073e-03,\n",
       "       -3.35333007e-03,  6.45289868e-02,  5.27763506e-03, -9.18974578e-02,\n",
       "        7.25625083e-03,  3.13015729e-02, -3.30177112e-03,  4.20697257e-02,\n",
       "       -1.74052324e-02,  1.44130448e-04,  9.09665413e-03,  4.90298048e-02,\n",
       "        8.21574684e-03, -3.74148451e-02, -1.37608647e-02,  7.13986754e-02,\n",
       "        3.44799310e-02, -2.49023773e-02,  5.38086006e-03, -8.53208750e-02,\n",
       "        3.51669118e-02,  5.28484322e-02, -3.32356915e-02, -9.61801317e-03,\n",
       "        3.58717069e-02, -3.51442136e-02, -2.43539214e-02, -4.18319851e-02,\n",
       "        9.14777443e-03, -1.89583190e-02, -3.28794867e-02,  5.23468629e-02,\n",
       "        1.04141757e-02, -7.21351728e-02, -8.05336386e-02, -2.84050908e-02,\n",
       "       -3.98551412e-02,  8.21421817e-02, -1.98019277e-02, -7.00599607e-03,\n",
       "       -5.53159267e-02,  5.03665581e-03, -4.86558452e-02, -1.51278684e-02,\n",
       "       -9.51204915e-03, -2.45545171e-02,  5.06643131e-02, -6.78206831e-02,\n",
       "        6.00089133e-03, -6.57611308e-05, -1.74990613e-02, -5.52161932e-02,\n",
       "       -7.69458190e-02,  8.57328763e-04, -3.80150639e-02, -9.12433118e-03,\n",
       "        1.70978941e-02, -3.30533050e-02,  6.32408410e-02,  1.39474990e-02,\n",
       "        3.52140740e-02], dtype=float32)"
      ]
     },
     "execution_count": 89,
     "metadata": {},
     "output_type": "execute_result"
    }
   ],
   "source": [
    "analyser.data.vh_list[3][9] # target"
   ]
  },
  {
   "cell_type": "code",
   "execution_count": null,
   "id": "3fb80851",
   "metadata": {},
   "outputs": [],
   "source": []
  },
  {
   "cell_type": "code",
   "execution_count": null,
   "id": "237b4f46",
   "metadata": {},
   "outputs": [],
   "source": []
  },
  {
   "cell_type": "code",
   "execution_count": null,
   "id": "bb0952fa",
   "metadata": {},
   "outputs": [],
   "source": []
  },
  {
   "cell_type": "code",
   "execution_count": 3,
   "id": "fba754d0",
   "metadata": {},
   "outputs": [
    {
     "data": {
      "image/png": "[encoded data removed]",
      "text/plain": [
       "<Figure size 432x288 with 1 Axes>"
      ]
     },
     "metadata": {
      "needs_background": "light"
     },
     "output_type": "display_data"
    }
   ],
   "source": [
    "plt.hist(analyser.data.activation_list[0].flatten());"
   ]
  },
  {
   "cell_type": "code",
   "execution_count": 4,
   "id": "a88707e2",
   "metadata": {},
   "outputs": [
    {
     "data": {
      "text/plain": [
       "0.035631507950471694"
      ]
     },
     "execution_count": 4,
     "metadata": {},
     "output_type": "execute_result"
    }
   ],
   "source": [
    "np.std(analyser.data.feature_list[0].flatten())"
   ]
  },
  {
   "cell_type": "code",
   "execution_count": 5,
   "id": "3a5a7f4c",
   "metadata": {},
   "outputs": [
    {
     "data": {
      "text/plain": [
       "0.02301646052263661"
      ]
     },
     "execution_count": 5,
     "metadata": {},
     "output_type": "execute_result"
    }
   ],
   "source": [
    "np.std(analyser.data.feature_list[1].flatten())"
   ]
  },
  {
   "cell_type": "code",
   "execution_count": 9,
   "id": "18042906",
   "metadata": {},
   "outputs": [
    {
     "data": {
      "text/plain": [
       "0.02066496954143529"
      ]
     },
     "execution_count": 9,
     "metadata": {},
     "output_type": "execute_result"
    }
   ],
   "source": [
    "np.std(analyser.data.feature_list[2].flatten())"
   ]
  },
  {
   "cell_type": "code",
   "execution_count": null,
   "id": "ed87bd81",
   "metadata": {},
   "outputs": [],
   "source": []
  },
  {
   "cell_type": "code",
   "execution_count": 10,
   "id": "a81c2084",
   "metadata": {},
   "outputs": [
    {
     "data": {
      "text/plain": [
       "1.548088070076119"
      ]
     },
     "execution_count": 10,
     "metadata": {},
     "output_type": "execute_result"
    }
   ],
   "source": [
    "np.std(analyser.data.feature_list[0].flatten())/np.std(analyser.data.feature_list[1].flatten())"
   ]
  },
  {
   "cell_type": "code",
   "execution_count": 11,
   "id": "13597cdb",
   "metadata": {},
   "outputs": [
    {
     "data": {
      "text/plain": [
       "1.7242468167701397"
      ]
     },
     "execution_count": 11,
     "metadata": {},
     "output_type": "execute_result"
    }
   ],
   "source": [
    "np.std(analyser.data.feature_list[0].flatten())/np.std(analyser.data.feature_list[2].flatten())"
   ]
  },
  {
   "cell_type": "code",
   "execution_count": null,
   "id": "09082458",
   "metadata": {},
   "outputs": [],
   "source": []
  },
  {
   "cell_type": "code",
   "execution_count": 12,
   "id": "aa970067",
   "metadata": {},
   "outputs": [
    {
     "data": {
      "image/png": "[encoded data removed]",
      "text/plain": [
       "<Figure size 432x288 with 1 Axes>"
      ]
     },
     "metadata": {
      "needs_background": "light"
     },
     "output_type": "display_data"
    }
   ],
   "source": [
    "plt.hist(analyser.data.vh_list[0].flatten());"
   ]
  },
  {
   "cell_type": "code",
   "execution_count": 13,
   "id": "53e2e2f9",
   "metadata": {},
   "outputs": [
    {
     "data": {
      "image/png": "[encoded data removed]",
      "text/plain": [
       "<Figure size 432x288 with 1 Axes>"
      ]
     },
     "metadata": {
      "needs_background": "light"
     },
     "output_type": "display_data"
    }
   ],
   "source": [
    "plt.hist(analyser.data.feature_list[0].flatten());"
   ]
  },
  {
   "cell_type": "code",
   "execution_count": 14,
   "id": "08bd927e",
   "metadata": {},
   "outputs": [
    {
     "data": {
      "text/plain": [
       "0.03569104"
      ]
     },
     "execution_count": 14,
     "metadata": {},
     "output_type": "execute_result"
    }
   ],
   "source": [
    "np.std(analyser.data.vh_list[0].flatten())"
   ]
  },
  {
   "cell_type": "code",
   "execution_count": 15,
   "id": "a4b82b3c",
   "metadata": {},
   "outputs": [
    {
     "data": {
      "text/plain": [
       "0.035631507950471694"
      ]
     },
     "execution_count": 15,
     "metadata": {},
     "output_type": "execute_result"
    }
   ],
   "source": [
    "np.std(analyser.data.feature_list[0].flatten())"
   ]
  },
  {
   "cell_type": "code",
   "execution_count": null,
   "id": "bfdf4490",
   "metadata": {},
   "outputs": [],
   "source": []
  },
  {
   "cell_type": "code",
   "execution_count": 16,
   "id": "379c4ff5",
   "metadata": {},
   "outputs": [
    {
     "data": {
      "image/png": "[encoded data removed]",
      "text/plain": [
       "<Figure size 432x288 with 1 Axes>"
      ]
     },
     "metadata": {
      "needs_background": "light"
     },
     "output_type": "display_data"
    }
   ],
   "source": [
    "plt.hist(analyser.data.vh_list[1].flatten());"
   ]
  },
  {
   "cell_type": "code",
   "execution_count": 17,
   "id": "2199e810",
   "metadata": {},
   "outputs": [
    {
     "data": {
      "image/png": "[encoded data removed]",
      "text/plain": [
       "<Figure size 432x288 with 1 Axes>"
      ]
     },
     "metadata": {
      "needs_background": "light"
     },
     "output_type": "display_data"
    }
   ],
   "source": [
    "plt.hist(analyser.data.feature_list[1].flatten());"
   ]
  },
  {
   "cell_type": "code",
   "execution_count": 18,
   "id": "78ff9e60",
   "metadata": {},
   "outputs": [
    {
     "data": {
      "text/plain": [
       "0.031221015"
      ]
     },
     "execution_count": 18,
     "metadata": {},
     "output_type": "execute_result"
    }
   ],
   "source": [
    "np.std(analyser.data.vh_list[1].flatten())"
   ]
  },
  {
   "cell_type": "code",
   "execution_count": 19,
   "id": "1d54a26a",
   "metadata": {},
   "outputs": [
    {
     "data": {
      "text/plain": [
       "0.02301646052263661"
      ]
     },
     "execution_count": 19,
     "metadata": {},
     "output_type": "execute_result"
    }
   ],
   "source": [
    "np.std(analyser.data.feature_list[1].flatten())"
   ]
  },
  {
   "cell_type": "code",
   "execution_count": 20,
   "id": "976964de",
   "metadata": {},
   "outputs": [
    {
     "data": {
      "text/plain": [
       "1.3564646635449031"
      ]
     },
     "execution_count": 20,
     "metadata": {},
     "output_type": "execute_result"
    }
   ],
   "source": [
    "np.std(analyser.data.vh_list[1].flatten())/np.std(analyser.data.feature_list[1].flatten())"
   ]
  },
  {
   "cell_type": "code",
   "execution_count": null,
   "id": "b6084137",
   "metadata": {},
   "outputs": [],
   "source": []
  },
  {
   "cell_type": "code",
   "execution_count": 21,
   "id": "1e11d655",
   "metadata": {},
   "outputs": [
    {
     "data": {
      "image/png": "[encoded data removed]",
      "text/plain": [
       "<Figure size 432x288 with 1 Axes>"
      ]
     },
     "metadata": {
      "needs_background": "light"
     },
     "output_type": "display_data"
    }
   ],
   "source": [
    "plt.hist(analyser.data.vh_list[2].flatten());"
   ]
  },
  {
   "cell_type": "code",
   "execution_count": 22,
   "id": "1e7f8a13",
   "metadata": {},
   "outputs": [
    {
     "data": {
      "image/png": "[encoded data removed]",
      "text/plain": [
       "<Figure size 432x288 with 1 Axes>"
      ]
     },
     "metadata": {
      "needs_background": "light"
     },
     "output_type": "display_data"
    }
   ],
   "source": [
    "plt.hist(analyser.data.feature_list[2].flatten());"
   ]
  },
  {
   "cell_type": "code",
   "execution_count": 26,
   "id": "73abad3d",
   "metadata": {},
   "outputs": [
    {
     "data": {
      "text/plain": [
       "0.031217515"
      ]
     },
     "execution_count": 26,
     "metadata": {},
     "output_type": "execute_result"
    }
   ],
   "source": [
    "np.std(analyser.data.vh_list[2].flatten())"
   ]
  },
  {
   "cell_type": "code",
   "execution_count": 27,
   "id": "6c9eec2d",
   "metadata": {},
   "outputs": [
    {
     "data": {
      "text/plain": [
       "0.02066496954143529"
      ]
     },
     "execution_count": 27,
     "metadata": {},
     "output_type": "execute_result"
    }
   ],
   "source": [
    "np.std(analyser.data.feature_list[2].flatten())"
   ]
  },
  {
   "cell_type": "code",
   "execution_count": 28,
   "id": "7ff26c70",
   "metadata": {},
   "outputs": [
    {
     "data": {
      "text/plain": [
       "1.5106489949575406"
      ]
     },
     "execution_count": 28,
     "metadata": {},
     "output_type": "execute_result"
    }
   ],
   "source": [
    "np.std(analyser.data.vh_list[2].flatten())/np.std(analyser.data.feature_list[2].flatten())"
   ]
  },
  {
   "cell_type": "code",
   "execution_count": null,
   "id": "2491c782",
   "metadata": {},
   "outputs": [],
   "source": []
  },
  {
   "cell_type": "code",
   "execution_count": null,
   "id": "e46ac5c5",
   "metadata": {},
   "outputs": [],
   "source": []
  },
  {
   "cell_type": "code",
   "execution_count": 32,
   "id": "844ecd13",
   "metadata": {},
   "outputs": [
    {
     "data": {
      "image/png": "[encoded data removed]",
      "text/plain": [
       "<Figure size 432x288 with 1 Axes>"
      ]
     },
     "metadata": {
      "needs_background": "light"
     },
     "output_type": "display_data"
    }
   ],
   "source": [
    "plt.hist(analyser.data.u_list[0].flatten());"
   ]
  },
  {
   "cell_type": "code",
   "execution_count": 33,
   "id": "966d039e",
   "metadata": {},
   "outputs": [
    {
     "data": {
      "image/png": "[encoded data removed]",
      "text/plain": [
       "<Figure size 432x288 with 1 Axes>"
      ]
     },
     "metadata": {
      "needs_background": "light"
     },
     "output_type": "display_data"
    }
   ],
   "source": [
    "plt.hist(analyser.data.u_list[1].flatten());"
   ]
  },
  {
   "cell_type": "code",
   "execution_count": 34,
   "id": "e2719c16",
   "metadata": {},
   "outputs": [
    {
     "data": {
      "image/png": "[encoded data removed]",
      "text/plain": [
       "<Figure size 432x288 with 1 Axes>"
      ]
     },
     "metadata": {
      "needs_background": "light"
     },
     "output_type": "display_data"
    }
   ],
   "source": [
    "plt.hist(analyser.data.u_list[2].flatten());"
   ]
  },
  {
   "cell_type": "code",
   "execution_count": null,
   "id": "02843f25",
   "metadata": {},
   "outputs": [],
   "source": []
  },
  {
   "cell_type": "code",
   "execution_count": 35,
   "id": "7a892a1e",
   "metadata": {},
   "outputs": [
    {
     "data": {
      "image/png": "[encoded data removed]",
      "text/plain": [
       "<Figure size 432x288 with 1 Axes>"
      ]
     },
     "metadata": {
      "needs_background": "light"
     },
     "output_type": "display_data"
    }
   ],
   "source": [
    "plt.hist(analyser.data.activation_list[1].flatten());"
   ]
  },
  {
   "cell_type": "code",
   "execution_count": 36,
   "id": "19519dfb",
   "metadata": {},
   "outputs": [
    {
     "data": {
      "text/plain": [
       "36.793888"
      ]
     },
     "execution_count": 36,
     "metadata": {},
     "output_type": "execute_result"
    }
   ],
   "source": [
    "np.std(analyser.data.activation_list[1].flatten())"
   ]
  },
  {
   "cell_type": "code",
   "execution_count": 37,
   "id": "49dfaff6",
   "metadata": {},
   "outputs": [
    {
     "data": {
      "image/png": "[encoded data removed]",
      "text/plain": [
       "<Figure size 432x288 with 1 Axes>"
      ]
     },
     "metadata": {
      "needs_background": "light"
     },
     "output_type": "display_data"
    }
   ],
   "source": [
    "plt.hist(analyser.data.feature_list[1].flatten());"
   ]
  },
  {
   "cell_type": "code",
   "execution_count": 65,
   "id": "4a34c3e4",
   "metadata": {},
   "outputs": [
    {
     "data": {
      "text/plain": [
       "0.0007305147319380225"
      ]
     },
     "execution_count": 65,
     "metadata": {},
     "output_type": "execute_result"
    }
   ],
   "source": [
    "np.std(analyser.data.feature_list[1].flatten())"
   ]
  },
  {
   "cell_type": "code",
   "execution_count": null,
   "id": "54fef4f8",
   "metadata": {},
   "outputs": [],
   "source": []
  },
  {
   "cell_type": "code",
   "execution_count": null,
   "id": "69fc9711",
   "metadata": {},
   "outputs": [],
   "source": []
  },
  {
   "cell_type": "code",
   "execution_count": 4,
   "id": "af18768d",
   "metadata": {},
   "outputs": [
    {
     "name": "stdout",
     "output_type": "stream",
     "text": [
      "Loading data ...\n"
     ]
    }
   ],
   "source": [
    "analyser = Analyser(\"mnist/dropout/\", show_plots=False)\n",
    "analyser.load(side=\"left\", load_features=True)"
   ]
  },
  {
   "cell_type": "code",
   "execution_count": 5,
   "id": "80cf33ac",
   "metadata": {},
   "outputs": [],
   "source": [
    "analyser.plotter.plot_path = \"plots/outliers/\"\n",
    "analyser.set_k_per_layer([20, 10, 10, 10])"
   ]
  },
  {
   "cell_type": "code",
   "execution_count": null,
   "id": "f08b54cc",
   "metadata": {},
   "outputs": [],
   "source": []
  },
  {
   "cell_type": "code",
   "execution_count": null,
   "id": "fb65e4e6",
   "metadata": {},
   "outputs": [],
   "source": []
  },
  {
   "cell_type": "code",
   "execution_count": 6,
   "id": "02f2f446",
   "metadata": {},
   "outputs": [],
   "source": [
    "final_decision_layer = analyser.get_layer_of_final_decision()\n",
    "mask = analyser.data.misclassification_mask"
   ]
  },
  {
   "cell_type": "code",
   "execution_count": 7,
   "id": "75fec0e4",
   "metadata": {},
   "outputs": [],
   "source": [
    "d_mis = final_decision_layer[mask]\n",
    "d_cor = final_decision_layer[mask == 0]\n",
    "d = [d_cor, d_mis]"
   ]
  },
  {
   "cell_type": "code",
   "execution_count": 8,
   "id": "03ced24b",
   "metadata": {},
   "outputs": [
    {
     "data": {
      "image/png": "[encoded data removed]",
      "text/plain": [
       "<Figure size 432x288 with 1 Axes>"
      ]
     },
     "metadata": {
      "needs_background": "light"
     },
     "output_type": "display_data"
    }
   ],
   "source": [
    "plt.hist(d, density=True)\n",
    "plt.legend(['Correct', 'Incorrect'])\n",
    "plt.xticks([0,1,2,3])\n",
    "plt.ylabel('density')\n",
    "plt.xlabel('Layer')\n",
    "plt.title('Final decision');"
   ]
  },
  {
   "cell_type": "code",
   "execution_count": null,
   "id": "d2295052",
   "metadata": {},
   "outputs": [],
   "source": []
  },
  {
   "cell_type": "code",
   "execution_count": 9,
   "id": "69166d3e",
   "metadata": {},
   "outputs": [],
   "source": [
    "variation = analyser.compute_variation_in_computation()"
   ]
  },
  {
   "cell_type": "code",
   "execution_count": 10,
   "id": "b05cf790",
   "metadata": {},
   "outputs": [],
   "source": [
    "d_mis = variation[mask]\n",
    "d_cor = variation[mask == 0]\n",
    "\n",
    "d_mis = np.mean(d_mis, axis = 0)\n",
    "d_cor = np.mean(d_cor, axis = 0)"
   ]
  },
  {
   "cell_type": "code",
   "execution_count": 11,
   "id": "39316eb3",
   "metadata": {},
   "outputs": [
    {
     "data": {
      "image/png": "[encoded data removed]",
      "text/plain": [
       "<Figure size 432x288 with 1 Axes>"
      ]
     },
     "metadata": {
      "needs_background": "light"
     },
     "output_type": "display_data"
    }
   ],
   "source": [
    "width = 0.2\n",
    "plt.bar(np.arange(len(d_cor)), height = d_cor, width=width)\n",
    "plt.bar(np.arange(len(d_mis)) + width, height = d_mis, width=width)\n",
    "\n",
    "plt.legend(['Correct', 'Incorrect'])\n",
    "plt.xticks([0,1,2])\n",
    "plt.ylabel('Average variation')\n",
    "plt.xlabel('Layer')\n",
    "plt.title('Variation in write-vector');"
   ]
  },
  {
   "cell_type": "code",
   "execution_count": null,
   "id": "d0828cfb",
   "metadata": {},
   "outputs": [],
   "source": []
  },
  {
   "cell_type": "code",
   "execution_count": null,
   "id": "6b1f0585",
   "metadata": {},
   "outputs": [],
   "source": [
    "# combined analysis"
   ]
  },
  {
   "cell_type": "code",
   "execution_count": 24,
   "id": "16368fbb",
   "metadata": {},
   "outputs": [],
   "source": [
    "mis_and_d3 = [final_decision_layer[i] == 3 and mask[i] for i in range(len(mask))]\n",
    "mis_and_d1 = [final_decision_layer[i] == 1 and mask[i] for i in range(len(mask))]\n",
    "\n",
    "var_mis_and_d3 = np.mean(variation[mis_and_d3], axis = 0)\n",
    "var_mis_and_d1 = np.mean(variation[mis_and_d1], axis = 0)"
   ]
  },
  {
   "cell_type": "code",
   "execution_count": 28,
   "id": "be9291de",
   "metadata": {},
   "outputs": [
    {
     "data": {
      "image/png": "[encoded data removed]",
      "text/plain": [
       "<Figure size 432x288 with 1 Axes>"
      ]
     },
     "metadata": {
      "needs_background": "light"
     },
     "output_type": "display_data"
    }
   ],
   "source": [
    "width = 0.2\n",
    "plt.bar(np.arange(len(var_mis_and_d3)), height = var_mis_and_d3, width=width)\n",
    "plt.bar(np.arange(len(var_mis_and_d1)) + width, height = var_mis_and_d1, width=width)\n",
    "\n",
    "plt.legend(['Last Layer Decision', 'First Layer Decision'])\n",
    "plt.xticks([0,1,2])\n",
    "plt.ylabel('Average uncertainty')\n",
    "plt.xlabel('Layer')\n",
    "plt.title('Variation in write-vector');"
   ]
  },
  {
   "cell_type": "code",
   "execution_count": null,
   "id": "55caff6d",
   "metadata": {},
   "outputs": [],
   "source": []
  },
  {
   "cell_type": "code",
   "execution_count": 31,
   "id": "d114d215",
   "metadata": {},
   "outputs": [
    {
     "data": {
      "text/plain": [
       "(array([235, 275, 326, 347, 352, 687]),)"
      ]
     },
     "execution_count": 31,
     "metadata": {},
     "output_type": "execute_result"
    }
   ],
   "source": [
    "np.where(mis_and_d1)"
   ]
  },
  {
   "cell_type": "code",
   "execution_count": 59,
   "id": "d4da91b2",
   "metadata": {},
   "outputs": [
    {
     "data": {
      "text/plain": [
       "(array([211, 235, 275, 326, 339, 347, 352, 359, 405, 431, 437, 455, 464,\n",
       "        465, 467, 474, 480, 484, 498, 500, 532, 535, 547, 550, 566, 583,\n",
       "        589, 593, 622, 635, 683, 687, 690, 718, 752, 768, 778, 796, 839,\n",
       "        849, 850, 861, 874, 918, 926, 935, 946, 949]),)"
      ]
     },
     "execution_count": 59,
     "metadata": {},
     "output_type": "execute_result"
    }
   ],
   "source": [
    "np.where(mask)"
   ]
  },
  {
   "cell_type": "code",
   "execution_count": null,
   "id": "130459f6",
   "metadata": {},
   "outputs": [],
   "source": []
  },
  {
   "cell_type": "code",
   "execution_count": 47,
   "id": "d0c907b1",
   "metadata": {},
   "outputs": [
    {
     "data": {
      "text/plain": [
       "array([2, 2, 6, 8, 9, 9, 2, 9, 6, 3, 8, 3, 4, 8, 2, 2, 2, 2, 7, 8, 1, 8])"
      ]
     },
     "execution_count": 47,
     "metadata": {},
     "output_type": "execute_result"
    }
   ],
   "source": [
    "analyser.data.predictions[mis_and_d3]"
   ]
  },
  {
   "cell_type": "code",
   "execution_count": 64,
   "id": "04d01d61",
   "metadata": {},
   "outputs": [
    {
     "data": {
      "text/plain": [
       "3"
      ]
     },
     "execution_count": 64,
     "metadata": {},
     "output_type": "execute_result"
    }
   ],
   "source": [
    "analyser.data.predictions[322]"
   ]
  },
  {
   "cell_type": "code",
   "execution_count": null,
   "id": "6eb830be",
   "metadata": {},
   "outputs": [],
   "source": []
  }
 ],
 "metadata": {
  "kernelspec": {
   "display_name": "Python 3 (ipykernel)",
   "language": "python",
   "name": "python3"
  },
  "language_info": {
   "codemirror_mode": {
    "name": "ipython",
    "version": 3
   },
   "file_extension": ".py",
   "mimetype": "text/x-python",
   "name": "python",
   "nbconvert_exporter": "python",
   "pygments_lexer": "ipython3",
   "version": "3.9.12"
  },
  "toc": {
   "base_numbering": 1,
   "nav_menu": {},
   "number_sections": true,
   "sideBar": true,
   "skip_h1_title": false,
   "title_cell": "Table of Contents",
   "title_sidebar": "Contents",
   "toc_cell": false,
   "toc_position": {},
   "toc_section_display": true,
   "toc_window_display": false
  },
  "varInspector": {
   "cols": {
    "lenName": 16,
    "lenType": 16,
    "lenVar": 40
   },
   "kernels_config": {
    "python": {
     "delete_cmd_postfix": "",
     "delete_cmd_prefix": "del ",
     "library": "var_list.py",
     "varRefreshCmd": "print(var_dic_list())"
    },
    "r": {
     "delete_cmd_postfix": ") ",
     "delete_cmd_prefix": "rm(",
     "library": "var_list.r",
     "varRefreshCmd": "cat(var_dic_list()) "
    }
   },
   "types_to_exclude": [
    "module",
    "function",
    "builtin_function_or_method",
    "instance",
    "_Feature"
   ],
   "window_display": false
  }
 },
 "nbformat": 4,
 "nbformat_minor": 5
}
